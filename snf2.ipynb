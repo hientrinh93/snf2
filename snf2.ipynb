{
 "cells": [
  {
   "cell_type": "markdown",
   "metadata": {},
   "source": [
    "12/03/2021: Download Uniref100: Lugh "
   ]
  },
  {
   "cell_type": "code",
   "execution_count": null,
   "metadata": {},
   "outputs": [],
   "source": [
    "%%bash\n",
    "#!/bin/bash\n",
    "#SBATCH --job-name=\"uniref100\"\n",
    "#SBATCH -o uniref100_download.out\n",
    "#SBATCH -p highmem\n",
    "#SBATCH -n 16\n",
    "wget ftp://ftp.ebi.ac.uk/pub/databases/uniprot/uniref/uniref100/uniref100.fasta.gz\n",
    "\n",
    "[htrinh@lugh snf2]$ sbatch uniref100_download.sh"
   ]
  },
  {
   "cell_type": "markdown",
   "metadata": {},
   "source": [
    "Install HMMer3"
   ]
  },
  {
   "cell_type": "code",
   "execution_count": null,
   "metadata": {},
   "outputs": [],
   "source": [
    "%%bash\n",
    "#!/bin/bash\n",
    "#SBATCH --job-name=\"hmm3_download\"\n",
    "#SBATCH -o hmm3_download.out\n",
    "#SBATCH -p normal\n",
    "#SBATCH -n 8\n",
    "set -eux\n",
    "wget http://eddylab.org/software/hmmer/hmmer.tar.gz\n",
    "tar xf hmmer.tar.gz\n",
    "cd hmmer-3.3.2/\n",
    "./configure --prefix=/data/htrinh/snf2/\n",
    "make\n",
    "make install\n",
    "\n",
    "[htrinh@lugh snf2]$ sbatch hmm3_download.sh"
   ]
  },
  {
   "cell_type": "markdown",
   "metadata": {},
   "source": [
    "15/03/2021: Extract uniref100.fasta.gz"
   ]
  },
  {
   "cell_type": "code",
   "execution_count": null,
   "metadata": {},
   "outputs": [],
   "source": [
    "%%bash\n",
    "#!/bin/bash\n",
    "#SBATCH --job-name=\"hmm3_gunzip\"\n",
    "#SBATCH -o hmm3_gunzip.out\n",
    "#SBATCH -p normal\n",
    "#SBATCH -n 8\n",
    "set -eux\n",
    "gunzip uniref100.fasta.gz"
   ]
  },
  {
   "cell_type": "markdown",
   "metadata": {},
   "source": [
    "Download MUSCLE (version 3.8.31): Align 1306 sequences, output is afa"
   ]
  },
  {
   "cell_type": "code",
   "execution_count": null,
   "metadata": {},
   "outputs": [],
   "source": [
    "%%bash\n",
    "wget https://www.drive5.com/muscle/downloads3.8.31/muscle3.8.31_i86linux64.tar.gz\n",
    "tar xf muscle3.8.31_i86linux64.tar.gz"
   ]
  },
  {
   "cell_type": "code",
   "execution_count": null,
   "metadata": {},
   "outputs": [],
   "source": [
    "%%bash\n",
    "#!/bin/bash\n",
    "#SBATCH --job-name=\"muscle_snf2\"\n",
    "#SBATCH -o muscle_snf2.out\n",
    "#SBATCH -p normal\n",
    "#SBATCH -n 8\n",
    "./muscle3.8.31_i86linux64 -in snf2all.fa -out snf2all.afa -maxiters 1 -diags1 -sv -distance1 kbit20_3"
   ]
  },
  {
   "cell_type": "markdown",
   "metadata": {},
   "source": [
    "Build a profile from the alignment (snf2all.afa)"
   ]
  },
  {
   "cell_type": "code",
   "execution_count": null,
   "metadata": {},
   "outputs": [],
   "source": [
    "%%bash\n",
    "#!/bin/bash\n",
    "#SBATCH --job-name=\"hmmbuild_snf2afa\"\n",
    "#SBATCH -o hmmbuild_snf2afa.out\n",
    "#SBATCH -p normal\n",
    "#SBATCH -n 8\n",
    "./hmmer-3.3.2/src/hmmbuild --informat afa snf2.hmm snf2all.afa"
   ]
  },
  {
   "cell_type": "markdown",
   "metadata": {},
   "source": [
    "Extract the first 20 sequences of uniref100.fasta"
   ]
  },
  {
   "cell_type": "code",
   "execution_count": null,
   "metadata": {},
   "outputs": [],
   "source": [
    "%%bash\n",
    "awk \"/^>/ {n++} n>20 {exit} {print}\" uniref100.fasta > test_uniref100.fasta"
   ]
  },
  {
   "cell_type": "markdown",
   "metadata": {},
   "source": [
    "Speed between hmmsearch and hmmscan: https://www.biostars.org/p/438243/\n",
    "Speed of hmm search: https://www.biostars.org/p/179555/\n",
    "hmmsearch: http://www.csb.yale.edu/userguides/seq/hmmer/docs/node26.html\n",
    "Extracting HMMER results to sequence files: http://cryptogenomicon.org/extracting-hmmer-results-to-sequence-files-easel-miniapplications.html\n",
    "Option for HMMer webtool: https://hmmer-web-docs.readthedocs.io/en/latest/searches.html"
   ]
  },
  {
   "cell_type": "markdown",
   "metadata": {},
   "source": [
    "Searching a sequence database with a profile: search the sequence database with hmmsearch: Test with hmmsearch"
   ]
  },
  {
   "cell_type": "code",
   "execution_count": null,
   "metadata": {},
   "outputs": [],
   "source": [
    "%%bash\n",
    "#!/bin/bash\n",
    "#SBATCH --job-name=\"hmmsearch_snf2\"\n",
    "#SBATCH -o hmmsearch_snf2.out\n",
    "#SBATCH -p normal\n",
    "#SBATCH -n 8\n",
    "./hmmer-3.3.2/src/hmmsearch -A test_myhits.sto snf2.hmm test_uniref100.fasta > test_hmmsearch_snf2.out\n",
    "./esl-reformat fasta ../../../test_myhits.sto > test_myhits.fa"
   ]
  },
  {
   "cell_type": "markdown",
   "metadata": {},
   "source": [
    "Test with 6.8GB uniref100.fasta"
   ]
  },
  {
   "cell_type": "code",
   "execution_count": null,
   "metadata": {},
   "outputs": [],
   "source": [
    "%%bash\n",
    "#!/bin/bash\n",
    "#SBATCH --job-name=\"hmmsearch_snf2_2\"\n",
    "#SBATCH -o hmmsearch_snf2_2.out\n",
    "#SBATCH -p normal\n",
    "#SBATCH -n 8\n",
    "./hmmer-3.3.2/src/hmmsearch -Z 2000000 -A snf2_myhits_2.sto snf2.hmm test2_uniref100.fasta > hmmsearch_snf2_result_2.out"
   ]
  },
  {
   "cell_type": "markdown",
   "metadata": {},
   "source": [
    "Run hmmsearch "
   ]
  },
  {
   "cell_type": "code",
   "execution_count": null,
   "metadata": {},
   "outputs": [],
   "source": [
    "%%bash\n",
    "#!/bin/bash\n",
    "#SBATCH --job-name=\"hmmsearch_snf2\"\n",
    "#SBATCH -o hmmsearch_snf2.out\n",
    "#SBATCH -p highmem\n",
    "#SBATCH -n 16\n",
    "./hmmer-3.3.2/src/hmmsearch -Z 2000000 -A snf2_myhits.sto snf2.hmm uniref100.fasta > hmmsearch_snf2_result.out"
   ]
  },
  {
   "cell_type": "markdown",
   "metadata": {},
   "source": [
    "16/03/2021: Extract \">\" from test_myhits.fa"
   ]
  },
  {
   "cell_type": "code",
   "execution_count": null,
   "metadata": {},
   "outputs": [],
   "source": [
    "%%bash\n",
    "grep -o -E \"^>\\w+\" test_myhits.fa | tr -d \">\"|sort -u - > test_myhits.list"
   ]
  },
  {
   "cell_type": "markdown",
   "metadata": {},
   "source": [
    "Index database fasta file to esl-sfetch"
   ]
  },
  {
   "cell_type": "code",
   "execution_count": null,
   "metadata": {
    "run_control": {
     "marked": true
    }
   },
   "outputs": [],
   "source": [
    "%%bash\n",
    "./hmmer-3.3.2/easel/miniapps/esl-sfetch --index test_uniref100.fasta"
   ]
  },
  {
   "cell_type": "markdown",
   "metadata": {},
   "source": [
    " Extract (sub)sequence(s) from a large sequence test_uniref100.fasta"
   ]
  },
  {
   "cell_type": "code",
   "execution_count": null,
   "metadata": {},
   "outputs": [],
   "source": [
    "%%bash\n",
    "./hmmer-3.3.2/easel/miniapps/esl-sfetch -f test_uniref100.fasta test_myhits.list > test_myhits_full.fa\n",
    "less test_myhits_full.fa\n",
    "\n",
    ">UniRef100_Q6GZW6 Putative helicase 009L n=4 Tax=Frog virus 3 TaxID=10493 RepID=009L_FRG3G\n",
    "MDTSPYDFLKLYPWLSRGEADKGTLLDAFPGETFEQSLASDVAMRRAVQDDPAFGHQKLV\n",
    "ETFLSEDTPYRELLLFHAPGTGKTCTVVSVAERAKEKGLTRGCIVLARGAALLRNFLHEL\n",
    "VFNCGTGGRYIPEGYADMGDQERTRKMRKAVSSYYQFRTYETFAKSVATMSAEAIRARYD\n",
    "RFVIVMDEVHHLRSVQAEGVNTYSAISRFLRTVRGCVKMLLTGTPMTNEPGELADVLNLI\n",
    "LPQDKTIRPEDGIFSNSGDLLKPDELAERVRGRVSYLKAARPDAGLTFAGEVLGGTGMTH\n",
    "LRLVRLEMSAFQSDAYASAWDQDAGDRNIFSNSRQCSLAVMPDRRWGSAAEARNPSQVRR\n",
    "MAGQNLAEYSVKYDYLVRVASSSPKTFAYCEYVNGSGLSLLSDILLANGWRRATGRETTP"
   ]
  },
  {
   "cell_type": "markdown",
   "metadata": {},
   "source": [
    "Extract list ID from snf2_myhits.sto"
   ]
  },
  {
   "cell_type": "code",
   "execution_count": null,
   "metadata": {},
   "outputs": [],
   "source": [
    "%%bash\n",
    "#!/bin/bash\n",
    "#SBATCH --job-name=\"snf2_ID\"\n",
    "#SBATCH -o snf2_ID.out\n",
    "#SBATCH -p normal\n",
    "#SBATCH -n 8\n",
    "set -eux\n",
    "./hmmer-3.3.2/easel/miniapps/esl-reformat fasta snf2_myhits.sto > snf2_myhits.fa\n",
    "grep -o -E \"^>\\w+\" snf2_myhits.fa | tr -d \">\"|sort -u - > snf2_myhits.list"
   ]
  },
  {
   "cell_type": "markdown",
   "metadata": {},
   "source": [
    "Index uniref100.fasta "
   ]
  },
  {
   "cell_type": "code",
   "execution_count": null,
   "metadata": {},
   "outputs": [],
   "source": [
    "%%bash\n",
    "#!/bin/bash\n",
    "#SBATCH --job-name=\"index_uniref100\"\n",
    "#SBATCH -o index_uniref100.out\n",
    "#SBATCH -p highmem\n",
    "#SBATCH -n 16\n",
    "set -eux\n",
    "./hmmer-3.3.2/easel/miniapps/esl-sfetch --index uniref100.fasta"
   ]
  },
  {
   "cell_type": "markdown",
   "metadata": {},
   "source": [
    "How many snf2 sequences in the first draft: 426297"
   ]
  },
  {
   "cell_type": "code",
   "execution_count": null,
   "metadata": {},
   "outputs": [],
   "source": [
    "%%bash\n",
    "wc -l snf2_myhits.list"
   ]
  },
  {
   "cell_type": "markdown",
   "metadata": {},
   "source": [
    "Extract full sequences from snf2_myhits.list to create a full list of first draft"
   ]
  },
  {
   "cell_type": "code",
   "execution_count": null,
   "metadata": {},
   "outputs": [],
   "source": [
    "%%bash\n",
    "#!/bin/bash\n",
    "#SBATCH --job-name=\"first_draft_snf2\"\n",
    "#SBATCH -o first_draft_snf2.out\n",
    "#SBATCH -p highmem\n",
    "#SBATCH -n 16\n",
    "./hmmer-3.3.2/easel/miniapps/esl-sfetch -f uniref100.fasta snf2_myhits.list > snf2_myhits_full.fa"
   ]
  },
  {
   "cell_type": "markdown",
   "metadata": {},
   "source": [
    "18/03/2021:  hmmalign --trim "
   ]
  },
  {
   "cell_type": "code",
   "execution_count": null,
   "metadata": {},
   "outputs": [],
   "source": [
    "%%bash\n",
    "#!/bin/bash\n",
    "#SBATCH --job-name=\"hmmalign_snf2\"\n",
    "#SBATCH -o hmmalign_snf2.out\n",
    "#SBATCH -p MSC\n",
    "#SBATCH --nodelist=compute01\n",
    "#SBATCH --partition=MSC\n",
    "#SBATCH -n 8\n",
    "./hmmer-3.3.2/src/hmmalign --trim snf2.hmm snf2_myhits_full.fa"
   ]
  },
  {
   "cell_type": "code",
   "execution_count": null,
   "metadata": {},
   "outputs": [],
   "source": [
    "%%bash\n",
    "mv hmmalign_snf2.out hmmalign_snf2.sto"
   ]
  },
  {
   "cell_type": "code",
   "execution_count": null,
   "metadata": {},
   "outputs": [],
   "source": [
    "%%bash\n",
    "#!/bin/bash\n",
    "#SBATCH --job-name=\"snf2_helicase_regions\"\n",
    "#SBATCH -o snf2_helicase_regions.out\n",
    "#SBATCH -p highmem\n",
    "#SBATCH --nodelist=compute06,compute07,compute08\n",
    "#SBATCH -n 16\n",
    "set -eux\n",
    "./hmmer-3.3.2/easel/miniapps/esl-reformat fasta hmmalign_snf2.sto > hmmalign_snf2.fa"
   ]
  },
  {
   "cell_type": "markdown",
   "metadata": {},
   "source": [
    "23/03/2021: Remove unimportant files"
   ]
  },
  {
   "cell_type": "code",
   "execution_count": null,
   "metadata": {},
   "outputs": [],
   "source": [
    "%%bash\n",
    "rm test2_uniref100.fasta"
   ]
  },
  {
   "cell_type": "markdown",
   "metadata": {
    "run_control": {
     "marked": true
    }
   },
   "source": [
    "Rerun with E-value 0.001"
   ]
  },
  {
   "cell_type": "code",
   "execution_count": null,
   "metadata": {},
   "outputs": [],
   "source": [
    "%%bash\n",
    "vim hmmsearch_snf2.sh\n",
    "#!/bin/bash\n",
    "#SBATCH --job-name=\"hmmsearch_snf2_E-value\"\n",
    "#SBATCH -o hmmsearch_snf2.out\n",
    "#SBATCH -p highmem\n",
    "#SBATCH --nodelist=compute06,compute07,compute08\n",
    "#SBATCH -n 40\n",
    "./hmmer-3.3.2/src/hmmsearch -Z 2000000 --tblout hmmsearch_snf2_result_e_value.out -E 1e-03 snf2.hmm uniref100.fasta "
   ]
  },
  {
   "cell_type": "markdown",
   "metadata": {},
   "source": [
    "24/03/2020: Download 2 files from Andrew Flaus:\n",
    "hmmsearch-evalues-E-75-uIDonly\n",
    "hmmsearch-evalues-E-120-uIDonly"
   ]
  },
  {
   "cell_type": "code",
   "execution_count": null,
   "metadata": {},
   "outputs": [],
   "source": [
    "%%bash\n",
    "vim andrewE-75.sh\n",
    "#!/bin/bash\n",
    "#SBATCH --job-name=\"andrewE-75\"\n",
    "#SBATCH -o andrewE-75.out\n",
    "#SBATCH -p highmem\n",
    "#SBATCH --nodelist=compute06\n",
    "#SBATCH -n 16\n",
    "./hmmer-3.3.2/easel/miniapps/esl-sfetch -f uniref100.fasta hmmsearch-evalues-E-75-uIDonly.txt > hmmSnf2-E-75.sto\n",
    "./hmmer-3.3.2/src/hmmalign --trim snf2.hmm hmmSnf2-E-75.sto > hmmSnf2-E-75-trim.sto\n",
    "./hmmer-3.3.2/easel/miniapps/esl-reformat afa hmmSnf2-E-75-trim.sto > hmmSnf2-E-75-trim.fa"
   ]
  },
  {
   "cell_type": "code",
   "execution_count": null,
   "metadata": {},
   "outputs": [],
   "source": [
    "#!/bin/bash\n",
    "#SBATCH --job-name=\"andrewE-120\"\n",
    "#SBATCH -o andrewE-120.out\n",
    "#SBATCH -p highmem\n",
    "#SBATCH --nodelist=compute06\n",
    "#SBATCH -n 16\n",
    "./hmmer-3.3.2/easel/miniapps/esl-sfetch -f uniref100.fasta hmmsearch-evalues-E-120-uIDonly.txt > hmmSnf2-E-120.sto\n",
    "./hmmer-3.3.2/src/hmmalign --trim snf2.hmm hmmSnf2-E-120.sto > hmmSnf2-E-120-trim.sto\n",
    "./hmmer-3.3.2/easel/miniapps/esl-reformat afa hmmSnf2-E-120-trim.sto > hmmSnf2-E-120-trim.fa"
   ]
  },
  {
   "cell_type": "markdown",
   "metadata": {},
   "source": [
    "hmmSnf2-E-120-trim.fa is afa alignment file"
   ]
  },
  {
   "cell_type": "markdown",
   "metadata": {},
   "source": [
    "25/03/2021: Download the old hmm file from Andrew: snf2all.hmm\n",
    "\n",
    "Run hmmsearch on the 1306 sequences only using your new snf2.hmm"
   ]
  },
  {
   "cell_type": "code",
   "execution_count": null,
   "metadata": {},
   "outputs": [],
   "source": [
    "#!/bin/bash\n",
    "#SBATCH --job-name=\"\"\n",
    "#SBATCH -o hmmsearch_snf2.out\n",
    "#SBATCH -p highmem\n",
    "#SBATCH --nodelist=compute06,compute07,compute08\n",
    "#SBATCH -n 40\n",
    "./hmmer-3.3.2/src/hmmsearch -Z 2000000 --tblout hmmsearch_snf2_result_e_value.out -E 1e-03 snf2.hmm uniref100.fasta"
   ]
  }
 ],
 "metadata": {
  "hide_input": false,
  "kernelspec": {
   "display_name": "Python 3",
   "language": "python",
   "name": "python3"
  },
  "language_info": {
   "codemirror_mode": {
    "name": "ipython",
    "version": 3
   },
   "file_extension": ".py",
   "mimetype": "text/x-python",
   "name": "python",
   "nbconvert_exporter": "python",
   "pygments_lexer": "ipython3",
   "version": "3.8.5"
  }
 },
 "nbformat": 4,
 "nbformat_minor": 2
}
