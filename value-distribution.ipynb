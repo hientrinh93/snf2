{
 "cells": [
  {
   "cell_type": "code",
   "execution_count": 1,
   "metadata": {},
   "outputs": [],
   "source": [
    "import pandas as pd\n",
    "import matplotlib.pyplot as plt\n",
    "import seaborn as sns\n",
    "import numpy as np"
   ]
  },
  {
   "cell_type": "code",
   "execution_count": 2,
   "metadata": {},
   "outputs": [
    {
     "data": {
      "text/html": [
       "<div>\n",
       "<style scoped>\n",
       "    .dataframe tbody tr th:only-of-type {\n",
       "        vertical-align: middle;\n",
       "    }\n",
       "\n",
       "    .dataframe tbody tr th {\n",
       "        vertical-align: top;\n",
       "    }\n",
       "\n",
       "    .dataframe thead th {\n",
       "        text-align: right;\n",
       "    }\n",
       "</style>\n",
       "<table border=\"1\" class=\"dataframe\">\n",
       "  <thead>\n",
       "    <tr style=\"text-align: right;\">\n",
       "      <th></th>\n",
       "      <th>ID</th>\n",
       "      <th>evalue</th>\n",
       "    </tr>\n",
       "  </thead>\n",
       "  <tbody>\n",
       "    <tr>\n",
       "      <th>0</th>\n",
       "      <td>UPI0010FAF789</td>\n",
       "      <td>4.600000e-286</td>\n",
       "    </tr>\n",
       "    <tr>\n",
       "      <th>1</th>\n",
       "      <td>A0A1B0FC35</td>\n",
       "      <td>9.100000e-270</td>\n",
       "    </tr>\n",
       "    <tr>\n",
       "      <th>2</th>\n",
       "      <td>A0A1A9Y4I8</td>\n",
       "      <td>3.300000e-268</td>\n",
       "    </tr>\n",
       "    <tr>\n",
       "      <th>3</th>\n",
       "      <td>A0A0M4EHL5</td>\n",
       "      <td>2.000000e-262</td>\n",
       "    </tr>\n",
       "    <tr>\n",
       "      <th>4</th>\n",
       "      <td>H3DXW1</td>\n",
       "      <td>5.100000e-257</td>\n",
       "    </tr>\n",
       "    <tr>\n",
       "      <th>...</th>\n",
       "      <td>...</td>\n",
       "      <td>...</td>\n",
       "    </tr>\n",
       "    <tr>\n",
       "      <th>613429</th>\n",
       "      <td>A0A0K2YGU7</td>\n",
       "      <td>1.000000e+01</td>\n",
       "    </tr>\n",
       "    <tr>\n",
       "      <th>613430</th>\n",
       "      <td>A0A6U3E522</td>\n",
       "      <td>1.000000e+01</td>\n",
       "    </tr>\n",
       "    <tr>\n",
       "      <th>613431</th>\n",
       "      <td>A0A522NV31</td>\n",
       "      <td>1.000000e+01</td>\n",
       "    </tr>\n",
       "    <tr>\n",
       "      <th>613432</th>\n",
       "      <td>A0A6L7QVR7</td>\n",
       "      <td>1.000000e+01</td>\n",
       "    </tr>\n",
       "    <tr>\n",
       "      <th>613433</th>\n",
       "      <td>A0A2J6IXA5</td>\n",
       "      <td>1.000000e+01</td>\n",
       "    </tr>\n",
       "  </tbody>\n",
       "</table>\n",
       "<p>613434 rows × 2 columns</p>\n",
       "</div>"
      ],
      "text/plain": [
       "                   ID         evalue\n",
       "0       UPI0010FAF789  4.600000e-286\n",
       "1          A0A1B0FC35  9.100000e-270\n",
       "2          A0A1A9Y4I8  3.300000e-268\n",
       "3          A0A0M4EHL5  2.000000e-262\n",
       "4              H3DXW1  5.100000e-257\n",
       "...               ...            ...\n",
       "613429     A0A0K2YGU7   1.000000e+01\n",
       "613430     A0A6U3E522   1.000000e+01\n",
       "613431     A0A522NV31   1.000000e+01\n",
       "613432     A0A6L7QVR7   1.000000e+01\n",
       "613433     A0A2J6IXA5   1.000000e+01\n",
       "\n",
       "[613434 rows x 2 columns]"
      ]
     },
     "execution_count": 2,
     "metadata": {},
     "output_type": "execute_result"
    }
   ],
   "source": [
    "dfev=pd.read_csv('hmmsearch-evalues.txt',sep='\\t',names=['ID','evalue'],dtype={'ID':object,'evalue':float})\n",
    "dfev"
   ]
  },
  {
   "cell_type": "code",
   "execution_count": 36,
   "metadata": {},
   "outputs": [
    {
     "data": {
      "text/plain": [
       "<AxesSubplot:xlabel='evalue', ylabel='Count'>"
      ]
     },
     "execution_count": 36,
     "metadata": {},
     "output_type": "execute_result"
    },
    {
     "data": {
      "image/png": "[encoded data removed]",
      "text/plain": [
       "<Figure size 1080x360 with 1 Axes>"
      ]
     },
     "metadata": {
      "needs_background": "light"
     },
     "output_type": "display_data"
    }
   ],
   "source": [
    "plt.figure(figsize=(15,5))\n",
    "sns.histplot(data=dfev[dfev.evalue<1E-75], x=\"evalue\",log_scale=True)"
   ]
  },
  {
   "cell_type": "code",
   "execution_count": 41,
   "metadata": {},
   "outputs": [
    {
     "data": {
      "text/plain": [
       "<AxesSubplot:xlabel='evalue', ylabel='Count'>"
      ]
     },
     "execution_count": 41,
     "metadata": {},
     "output_type": "execute_result"
    },
    {
     "data": {
      "image/png": "[encoded data removed]",
      "text/plain": [
       "<Figure size 1080x360 with 1 Axes>"
      ]
     },
     "metadata": {
      "needs_background": "light"
     },
     "output_type": "display_data"
    }
   ],
   "source": [
    "plt.figure(figsize=(15,5))\n",
    "sns.histplot(data=dfev[dfev.evalue<1E-75], x=\"evalue\",log_scale=True,cumulative=True)"
   ]
  },
  {
   "cell_type": "code",
   "execution_count": null,
   "metadata": {},
   "outputs": [],
   "source": [
    "dfev['uID'] = 'UniRef100_' + dfev['ID']"
   ]
  },
  {
   "cell_type": "code",
   "execution_count": 34,
   "metadata": {},
   "outputs": [],
   "source": [
    "dfev[dfev.evalue<1E-75].to_csv('hmmsearch-evalues-E-75.txt',sep='\\t',header=False,index=False)\n",
    "dfev[dfev.evalue<1E-75].to_csv('hmmsearch-evalues-E-75-IDonly.txt',sep='\\t',header=False,index=False,columns=['ID'])\n",
    "dfev[dfev.evalue<1E-75].to_csv('hmmsearch-evalues-E-75-uIDonly.txt',sep='\\t',header=False,index=False,columns=['uID'])"
   ]
  },
  {
   "cell_type": "code",
   "execution_count": 35,
   "metadata": {},
   "outputs": [],
   "source": [
    "dfev[dfev.evalue<1E-120].to_csv('hmmsearch-evalues-E-120.txt',sep='\\t',header=False,index=False)\n",
    "dfev[dfev.evalue<1E-120].to_csv('hmmsearch-evalues-E-120-IDonly.txt',sep='\\t',header=False,index=False,columns=['ID'])\n",
    "dfev[dfev.evalue<1E-120].to_csv('hmmsearch-evalues-E-120-uIDonly.txt',sep='\\t',header=False,index=False,columns=['uID'])"
   ]
  },
  {
   "cell_type": "code",
   "execution_count": null,
   "metadata": {},
   "outputs": [],
   "source": []
  }
 ],
 "metadata": {
  "hide_input": false,
  "kernelspec": {
   "display_name": "Python 3",
   "language": "python",
   "name": "python3"
  },
  "language_info": {
   "codemirror_mode": {
    "name": "ipython",
    "version": 3
   },
   "file_extension": ".py",
   "mimetype": "text/x-python",
   "name": "python",
   "nbconvert_exporter": "python",
   "pygments_lexer": "ipython3",
   "version": "3.8.5"
  }
 },
 "nbformat": 4,
 "nbformat_minor": 5
}
